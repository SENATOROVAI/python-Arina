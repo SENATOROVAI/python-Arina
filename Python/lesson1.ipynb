{
 "cells": [
  {
   "cell_type": "markdown",
   "metadata": {},
   "source": [
    "fork это процедура клонирования чужого репозитория в свой личный аккаунт гидхаба, для дальнейшего pull request \n",
    "pull request - процедура переноса изменений из личного репозитория в форкнутый репозиторий, возможен только при наличие изменений\n",
    "commit - зафиксировать изменения \n",
    "взаимодействие с GitHub начинается с клонирования \n",
    "клонирование - процесс передачи репозитория с GitHub на локальный хост с помощью команды Git clone нажимаешь гит три кружочка, три точки, clone "
   ]
  },
  {
   "cell_type": "markdown",
   "metadata": {},
   "source": [
    "codereview это процедура проверки кода и его оптимизация \n",
    "алгоритм code rewiew :\n",
    "1 fork понравившегося репозитория \n",
    "2 склонируемся в VS code \n",
    "3 комментируем строчки, которые не понятны\n",
    "4 делаем commit, push\n",
    "5 заходим в GitHub, копируем ссылку на commit и push его в чат code review \n",
    "\n"
   ]
  },
  {
   "cell_type": "markdown",
   "metadata": {},
   "source": [
    "чтобы принять rewiew,нужно нажать на кнопку pull "
   ]
  },
  {
   "cell_type": "markdown",
   "metadata": {},
   "source": [
    "создание виртуального окружения  \n",
    "python -m venv venv "
   ]
  },
  {
   "cell_type": "code",
   "execution_count": null,
   "metadata": {
    "vscode": {
     "languageId": "plaintext"
    }
   },
   "outputs": [],
   "source": []
  }
 ],
 "metadata": {
  "language_info": {
   "name": "python"
  },
  "orig_nbformat": 4
 },
 "nbformat": 4,
 "nbformat_minor": 2
}
